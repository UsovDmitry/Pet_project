{
 "cells": [
  {
   "cell_type": "code",
   "execution_count": 1,
   "id": "27895741",
   "metadata": {},
   "outputs": [
    {
     "name": "stdout",
     "output_type": "stream",
     "text": [
      "Requirement already satisfied: pandas in c:\\python38\\lib\\site-packages (1.3.5)\n",
      "Requirement already satisfied: python-dateutil>=2.7.3 in c:\\python38\\lib\\site-packages (from pandas) (2.8.2)\n",
      "Requirement already satisfied: pytz>=2017.3 in c:\\users\\dimm_inc\\appdata\\roaming\\python\\python38\\site-packages (from pandas) (2021.3)\n",
      "Requirement already satisfied: numpy>=1.17.3 in c:\\python38\\lib\\site-packages (from pandas) (1.21.4)\n",
      "Requirement already satisfied: six>=1.5 in c:\\python38\\lib\\site-packages (from python-dateutil>=2.7.3->pandas) (1.16.0)\n",
      "Note: you may need to restart the kernel to use updated packages.\n"
     ]
    },
    {
     "name": "stderr",
     "output_type": "stream",
     "text": [
      "WARNING: You are using pip version 21.3.1; however, version 22.2 is available.\n",
      "You should consider upgrading via the 'c:\\python38\\python.exe -m pip install --upgrade pip' command.\n"
     ]
    }
   ],
   "source": [
    "pip install pandas "
   ]
  },
  {
   "cell_type": "code",
   "execution_count": 2,
   "id": "b10bf81a",
   "metadata": {},
   "outputs": [],
   "source": [
    "#import config\n",
    "import random\n",
    "import json\n",
    "import nltk\n",
    "import sklearn\n",
    "\n",
    "import telebot\n",
    "import requests\n",
    "#from telebot import types\n",
    "from bs4 import BeautifulSoup as BS\n",
    "\n",
    "\n",
    "#import yfinance as yf\n",
    "import pandas as pd\n",
    "#import matplotlib.pyplot as plt\n",
    "\n",
    "from sklearn.model_selection import train_test_split\n",
    "from sklearn.feature_extraction.text import CountVectorizer\n",
    "from sklearn.feature_extraction.text import TfidfVectorizer\n",
    "from sklearn.linear_model import RidgeClassifier\n",
    "from sklearn.ensemble import RandomForestClassifier\n"
   ]
  },
  {
   "cell_type": "code",
   "execution_count": 3,
   "id": "34cb0381",
   "metadata": {},
   "outputs": [],
   "source": [
    "with open('C:/tmp/BOT_CONFIG.json', 'r', encoding = 'utf8') as f:\n",
    "    BOT_CONFIG = json.load(f)"
   ]
  },
  {
   "cell_type": "code",
   "execution_count": 4,
   "id": "069ecb53",
   "metadata": {},
   "outputs": [],
   "source": [
    "corpus = []\n",
    "y = []\n",
    "for intent in BOT_CONFIG['intents'].keys():\n",
    "    for example in BOT_CONFIG['intents'][intent]['examples']:\n",
    "        corpus.append(example)\n",
    "        y.append(intent)"
   ]
  },
  {
   "cell_type": "code",
   "execution_count": 5,
   "id": "8f794c33",
   "metadata": {},
   "outputs": [],
   "source": [
    "corpus_train, corpus_test, y_train, y_test = sklearn.model_selection.train_test_split(corpus, y, test_size=0.2)"
   ]
  },
  {
   "cell_type": "code",
   "execution_count": 6,
   "id": "087a4725",
   "metadata": {},
   "outputs": [
    {
     "name": "stdout",
     "output_type": "stream",
     "text": [
      "570\n"
     ]
    }
   ],
   "source": [
    "vectorizer = sklearn.feature_extraction.text.CountVectorizer(ngram_range=(2,4), analyzer='char_wb')\n",
    "#vectorizer = sklearn.feature_extraction.text.TfidfVectorizer(ngram_range=(2, 4), analyzer='char_wb', use_idf=True)\n",
    "X_train = vectorizer.fit_transform(corpus_train)\n",
    "X_test = vectorizer.transform(corpus_test)\n",
    "print(len(vectorizer.get_feature_names_out()))"
   ]
  },
  {
   "cell_type": "code",
   "execution_count": 7,
   "id": "54ed72a0",
   "metadata": {},
   "outputs": [
    {
     "data": {
      "text/plain": [
       "(1.0, 0.8947368421052632)"
      ]
     },
     "execution_count": 7,
     "metadata": {},
     "output_type": "execute_result"
    }
   ],
   "source": [
    "#clf = sklearn.linear_model.RidgeClassifier(copy_X=True, max_iter=200)\n",
    "# clf = sklearn.ensemble.RandomForestClassifier(\n",
    "#clf.fit(X_test, y_test)\n",
    "\n",
    "model = RandomForestClassifier(n_estimators=300) # LogisticRegression(max_iter=200)#\n",
    "model.fit(X_train, y_train) # учим модель на тренировочной части\n",
    "model.score(X_train, y_train), model.score(X_test, y_test)"
   ]
  },
  {
   "cell_type": "code",
   "execution_count": 8,
   "id": "960604d0",
   "metadata": {},
   "outputs": [],
   "source": [
    "def currency(text):\n",
    "    data = requests.get('https://www.cbr-xml-daily.ru/daily_json.js').json()\n",
    "    return (data['Valute'][text]['Value'])\n",
    "\n",
    "def wheather(city):\n",
    "    wheather = []\n",
    "    r = requests.get('https://rp5.ru/'+city)\n",
    "    html = BS(r.content,'html.parser')\n",
    "\n",
    "    tmp = html.find('meta', attrs = {\"name\":'description'})\n",
    "    tmp = tmp.attrs['content']\n",
    "    descript = tmp.split('.')\n",
    "    descript.pop(-1)\n",
    "    descript = '.'.join(descript) \n",
    "    \n",
    "    \n",
    "    #for el in html.select('#ftab_6_content'):\n",
    "    #    wheather.append(el.select('.t_0, .otstup')[1].text)\n",
    "    #    wheather.append(el.select('.t_0, .otstup')[0].text)\n",
    "    #    wheather.append(el.select('.wv_0')[1].text)\n",
    "    #    wheather.append(el.select('.wv_0')[0].text)\n",
    "    #s = ' '.join(wheather)\n",
    "    return descript\n",
    "\n",
    "\n",
    "\n",
    "def clean(text):\n",
    "  clean_text = ''\n",
    "  for char in text.lower():\n",
    "    if char in 'абвгдеёжзийклмнопрстуфхцчшщъыьэюя-!?':\n",
    "      clean_text = clean_text + char\n",
    "  return clean_text\n",
    "\n",
    "def get_intent(text):\n",
    "  #from nltk.metrics import edit_distance\n",
    "  for intent in BOT_CONFIG['intents'].keys():\n",
    "    for example in BOT_CONFIG['intents'][intent]['examples']:\n",
    "      s1 = clean(text)\n",
    "      s2 = clean(example)\n",
    "      if nltk.edit_distance(s1, s2) / max(len(s1), len(s2)) < 0.4:\n",
    "        return intent\n",
    "  return 'intent not found :('\n",
    "\n",
    "def get_intent_by_model(text):\n",
    "    print (text)\n",
    "    return model.predict(vectorizer.transform([text]))[0]\n",
    "\n",
    "\n",
    "\n",
    "\n",
    "def bot2(text):\n",
    "    #intent = get_intent(text)\n",
    "    intent = get_intent_by_model(text)\n",
    "    print (intent)\n",
    "    if intent == 'USD' or intent == 'EUR':\n",
    "        answer = (f'Курс {intent} = {currency(intent)}')\n",
    "        return answer\n",
    "    \n",
    "    else:\n",
    "        answer = random.choice(BOT_CONFIG['intents'][intent]['responses'])\n",
    "        tmp = intent.split('_')\n",
    "        if tmp[0] == 'WHEATHER':\n",
    "            return wheather(answer)\n",
    "    return answer"
   ]
  },
  {
   "cell_type": "code",
   "execution_count": 9,
   "id": "648333cd",
   "metadata": {},
   "outputs": [
    {
     "name": "stdout",
     "output_type": "stream",
     "text": [
      "привет!\n",
      "USD\n"
     ]
    },
    {
     "data": {
      "text/plain": [
       "'Курс USD = 56.4783'"
      ]
     },
     "execution_count": 9,
     "metadata": {},
     "output_type": "execute_result"
    }
   ],
   "source": [
    "bot2('привет!')"
   ]
  },
  {
   "cell_type": "code",
   "execution_count": null,
   "id": "e51e4b27",
   "metadata": {},
   "outputs": [],
   "source": []
  },
  {
   "cell_type": "code",
   "execution_count": 10,
   "id": "f149736b",
   "metadata": {},
   "outputs": [
    {
     "name": "stdout",
     "output_type": "stream",
     "text": [
      "Привет\n",
      "USD\n",
      "Привет\n",
      "USD\n",
      "Как дела\n",
      "USD\n",
      "Как дела\n",
      "USD\n",
      "Погода клг\n",
      "WHEATHER_KALD\n",
      "Погода клг\n",
      "WHEATHER_KALD\n",
      "Евро\n",
      "EUR\n",
      "Евро\n",
      "EUR\n",
      "Бай\n",
      "USD\n",
      "Бай\n",
      "USD\n"
     ]
    }
   ],
   "source": [
    "\n",
    "bot = telebot.TeleBot('****************************')\n",
    "\n",
    "@bot.message_handler(content_types=[\"text\"])\n",
    "\n",
    "def repeat_all_messages(message): # Название функции не играет никакой роли\n",
    "    mess = message.text\n",
    "    bot2(mess)\n",
    "    bot.send_message(message.chat.id, bot2(mess))\n",
    "    \n",
    "bot.polling()"
   ]
  },
  {
   "cell_type": "code",
   "execution_count": null,
   "id": "e16d7b06",
   "metadata": {},
   "outputs": [],
   "source": []
  },
  {
   "cell_type": "code",
   "execution_count": 11,
   "id": "98ff6141",
   "metadata": {},
   "outputs": [],
   "source": [
    "def wheather(city):\n",
    "    \n",
    "    wheather_list = []\n",
    "    r = requests.get('https://rp5.ru/'+city)\n",
    "    html = BS(r.content,'html.parser')\n",
    "    wind1 = html.find('meta', attrs = {\"name\":'description'})\n",
    "    wheat = wind1.attrs['content']\n",
    "    tmp = wheat.split('.')\n",
    "    print (tmp)\n",
    "    tmp.pop(-1)\n",
    "    print (tmp)\n",
    "    tmp = '.'.join(tmp) \n",
    "    print (tmp)\n",
    "    \n",
    "    print (wheat)\n",
    "    for el in html.select('#ftab_6_content'):\n",
    "        #wheather_list.append(el.select('.t_0, .otstup')[1].text)\n",
    "        #wheather_list.append(el.select('.t_0, .otstup')[0].text)\n",
    "         \n",
    "        wind2 = el.select('.title , .content') #=\"description\"\n",
    "                                   #data_soup.find_all(attrs={\"data-foo\": \"value\"}) \n",
    "                                   # [<div data-foo=\"value\">foo!</div>]\n",
    "        #cloud = el.select('.cc_1, .cc_0')[1].text\n",
    "    \n",
    "        #wheather_list.append(el.select('.wv_0')[1].text)\n",
    "        #wheather_list.append(el.select('.wv_0')[0].text)\n",
    "\n",
    "\n",
    "    #print (wind)\n",
    "    return print (wind1) #, wind2) #wheather_list\n"
   ]
  },
  {
   "cell_type": "code",
   "execution_count": 12,
   "id": "039d3938",
   "metadata": {},
   "outputs": [
    {
     "name": "stdout",
     "output_type": "stream",
     "text": [
      "['В Калининграде сегодня ожидается +24', '', '+23 °C, без осадков, легкий ветер', ' Завтра: +26', '', '+23 °C, cлабый дождь, слабый ветер', ' РП5']\n",
      "['В Калининграде сегодня ожидается +24', '', '+23 °C, без осадков, легкий ветер', ' Завтра: +26', '', '+23 °C, cлабый дождь, слабый ветер']\n",
      "В Калининграде сегодня ожидается +24..+23 °C, без осадков, легкий ветер. Завтра: +26..+23 °C, cлабый дождь, слабый ветер\n",
      "В Калининграде сегодня ожидается +24..+23 °C, без осадков, легкий ветер. Завтра: +26..+23 °C, cлабый дождь, слабый ветер. РП5\n",
      "<meta content=\"В Калининграде сегодня ожидается +24..+23 °C, без осадков, легкий ветер. Завтра: +26..+23 °C, cлабый дождь, слабый ветер. РП5\" name=\"description\"/>\n"
     ]
    }
   ],
   "source": [
    "wheather('Погода в Калининграде')"
   ]
  },
  {
   "cell_type": "code",
   "execution_count": 13,
   "id": "6ca8af7b",
   "metadata": {},
   "outputs": [
    {
     "ename": "NameError",
     "evalue": "name 's' is not defined",
     "output_type": "error",
     "traceback": [
      "\u001b[1;31m---------------------------------------------------------------------------\u001b[0m",
      "\u001b[1;31mNameError\u001b[0m                                 Traceback (most recent call last)",
      "\u001b[1;32mC:\\Temp/ipykernel_10740/1028141915.py\u001b[0m in \u001b[0;36m<module>\u001b[1;34m\u001b[0m\n\u001b[1;32m----> 1\u001b[1;33m \u001b[0ms\u001b[0m\u001b[1;33m\u001b[0m\u001b[1;33m\u001b[0m\u001b[0m\n\u001b[0m",
      "\u001b[1;31mNameError\u001b[0m: name 's' is not defined"
     ]
    }
   ],
   "source": [
    "s"
   ]
  },
  {
   "cell_type": "code",
   "execution_count": null,
   "id": "6c33ad74",
   "metadata": {},
   "outputs": [],
   "source": [
    "ss = ' '.join(s)"
   ]
  },
  {
   "cell_type": "code",
   "execution_count": null,
   "id": "693a2a0f",
   "metadata": {},
   "outputs": [],
   "source": [
    "ss"
   ]
  },
  {
   "cell_type": "code",
   "execution_count": null,
   "id": "e323abe5",
   "metadata": {},
   "outputs": [],
   "source": []
  }
 ],
 "metadata": {
  "kernelspec": {
   "display_name": "Python 3 (ipykernel)",
   "language": "python",
   "name": "python3"
  },
  "language_info": {
   "codemirror_mode": {
    "name": "ipython",
    "version": 3
   },
   "file_extension": ".py",
   "mimetype": "text/x-python",
   "name": "python",
   "nbconvert_exporter": "python",
   "pygments_lexer": "ipython3",
   "version": "3.8.10"
  }
 },
 "nbformat": 4,
 "nbformat_minor": 5
}
